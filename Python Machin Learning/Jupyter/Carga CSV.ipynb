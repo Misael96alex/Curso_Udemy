{
 "cells": [
  {
   "cell_type": "markdown",
   "id": "b703d152",
   "metadata": {},
   "source": [
    "# Carga de datos a travez de la funcion read_csv"
   ]
  },
  {
   "cell_type": "code",
   "execution_count": 1,
   "id": "3d6df314",
   "metadata": {},
   "outputs": [],
   "source": [
    "import pandas as pd\n",
    "import os"
   ]
  },
  {
   "cell_type": "code",
   "execution_count": 2,
   "id": "a3d949b4",
   "metadata": {},
   "outputs": [],
   "source": [
    "url= \"https://github.com/joanby/python-ml-course/blob/python-3.8/datasets/titanic/titanic3.csv\""
   ]
  },
  {
   "cell_type": "code",
   "execution_count": null,
   "id": "a0728797",
   "metadata": {},
   "outputs": [],
   "source": [
    "data=pd.read_csv(url, sep=\";\", dtype = None)"
   ]
  },
  {
   "cell_type": "code",
   "execution_count": null,
   "id": "8910d566",
   "metadata": {},
   "outputs": [],
   "source": []
  }
 ],
 "metadata": {
  "kernelspec": {
   "display_name": "Python 3 (ipykernel)",
   "language": "python",
   "name": "python3"
  },
  "language_info": {
   "codemirror_mode": {
    "name": "ipython",
    "version": 3
   },
   "file_extension": ".py",
   "mimetype": "text/x-python",
   "name": "python",
   "nbconvert_exporter": "python",
   "pygments_lexer": "ipython3",
   "version": "3.9.12"
  }
 },
 "nbformat": 4,
 "nbformat_minor": 5
}
